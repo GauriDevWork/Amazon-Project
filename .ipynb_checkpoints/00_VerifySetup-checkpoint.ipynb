{
 "cells": [
  {
   "cell_type": "code",
   "execution_count": 1,
   "id": "5d350672-c4f9-4108-bd6b-b56a97da70ef",
   "metadata": {},
   "outputs": [
    {
     "name": "stdout",
     "output_type": "stream",
     "text": [
      "Python: 3.13.5 (tags/v3.13.5:6cb20a2, Jun 11 2025, 16:15:46) [MSC v.1943 64 bit (AMD64)]\n",
      "Pandas version: 2.3.3\n",
      "Files in data folder: ['amazon_india_2015.csv', 'amazon_india_2016.csv', 'amazon_india_2017.csv', 'amazon_india_2018.csv', 'amazon_india_2019.csv', 'amazon_india_2020.csv', 'amazon_india_2021.csv', 'amazon_india_2022.csv', 'amazon_india_2023.csv', 'amazon_india_2024.csv', 'amazon_india_2025.csv', 'amazon_india_complete_2015_2025.csv', 'amazon_india_products_catalog.csv']\n"
     ]
    }
   ],
   "source": [
    "import sys, pandas as pd, os\n",
    "\n",
    "print(\"Python:\", sys.version.splitlines()[0])\n",
    "print(\"Pandas version:\", pd.__version__)\n",
    "\n",
    "data_path = \"data\"\n",
    "if os.path.exists(data_path):\n",
    "    print(\"Files in data folder:\", os.listdir(data_path)[:20])\n",
    "else:\n",
    "    print(\"'data' folder not found. Check your project path.\")\n"
   ]
  }
 ],
 "metadata": {
  "kernelspec": {
   "display_name": "Python 3 (ipykernel)",
   "language": "python",
   "name": "python3"
  },
  "language_info": {
   "codemirror_mode": {
    "name": "ipython",
    "version": 3
   },
   "file_extension": ".py",
   "mimetype": "text/x-python",
   "name": "python",
   "nbconvert_exporter": "python",
   "pygments_lexer": "ipython3",
   "version": "3.13.5"
  }
 },
 "nbformat": 4,
 "nbformat_minor": 5
}
